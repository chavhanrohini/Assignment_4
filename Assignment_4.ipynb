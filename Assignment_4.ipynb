{
 "cells": [
  {
   "cell_type": "markdown",
   "id": "cd30466c",
   "metadata": {},
   "source": [
    "## 1. What exactly is []?\n",
    "In Python, [] is an empty list literal. It represents an empty list, which is a built-in data type used to store an ordered collection of items. An empty list contains no elements and has a length of zero.\n"
   ]
  },
  {
   "cell_type": "markdown",
   "id": "7dd7e6a1",
   "metadata": {},
   "source": [
    "## 2. In a list of values stored in a variable called spam, how would you assign the value 'hello' as the third value? (Assume [2, 4, 6, 8, 10] are in spam.)"
   ]
  },
  {
   "cell_type": "code",
   "execution_count": 40,
   "id": "d562d68e",
   "metadata": {},
   "outputs": [
    {
     "name": "stdout",
     "output_type": "stream",
     "text": [
      "[2, 4, 'hello', 8, 10]\n"
     ]
    }
   ],
   "source": [
    "spam = [2, 4, 6, 8, 10]  # The original list\n",
    "# Assign 'hello' as the third value (at index 2)\n",
    "spam[2] = 'hello'\n",
    "print(spam)  # Output: [2, 4, 'hello', 8, 10]\n"
   ]
  },
  {
   "cell_type": "markdown",
   "id": "7724c33e",
   "metadata": {},
   "source": [
    "# Let's pretend the spam includes the list ['a', 'b', 'c', 'd'] for the next three queries."
   ]
  },
  {
   "cell_type": "markdown",
   "id": "de3df734",
   "metadata": {},
   "source": [
    "## 3. What is the value of spam[int(int('3' * 2) / 11)]?\n",
    "\n",
    "•\t'3' * 2 evaluates to the string '33'.\n",
    "•\tint('33') converts the string '33' to an integer, which is 33.\n",
    "•\tint('33') / 11 is 33 / 11, which is 3.0.\n",
    "•\tspam[3.0] tries to access the element at index 3.0, which is equivalent to spam[3].\n",
    "•\tThe value at index 3 of the spam list is 'd'.\n",
    "•\tSo, the value of spam[int(int('3' * 2) / 11)] is 'd'.\n"
   ]
  },
  {
   "cell_type": "markdown",
   "id": "4009e1ec",
   "metadata": {},
   "source": [
    "## 4. What is the value of spam[-1]?\n",
    "\n",
    "•\tNegative indexing in Python refers to counting elements from the end of the list.\n",
    "•\tspam[-1] is last element of the spam list.\n",
    "•\tThe last element of spam is 'd'.\n",
    "So, the value of spam[-1] is 'd'\n"
   ]
  },
  {
   "cell_type": "markdown",
   "id": "4fda20d2",
   "metadata": {},
   "source": [
    "## 5. What is the value of spam[:2]\n",
    "\n",
    "•\tSlicing in Python allows you to extract a portion of a list.\n",
    "•\tspam[:2] extracts elements from the beginning of the list up to, but not including, the element at index 2.\n",
    "•\tThe elements at indices 0 and 1 are 'a' and 'b'.\n",
    "So, the value of spam[:2] is ['a', 'b'].\n"
   ]
  },
  {
   "cell_type": "markdown",
   "id": "790ec3fe",
   "metadata": {},
   "source": [
    "# Let's pretend bacon has the list [3.14, 'cat,' 11, 'cat,' True] for the next three questions."
   ]
  },
  {
   "cell_type": "markdown",
   "id": "da7e6225",
   "metadata": {},
   "source": [
    "## 6. What is the value of bacon.index('cat')?\n",
    "\n",
    "•\tThe index() method in Python returns the index of the first occurrence of a specified value in a list.\n",
    "•\tThe first occurrence of 'cat' is at index 1.\n",
    "So, the value of bacon.index('cat') is 1.\n",
    "\n"
   ]
  },
  {
   "cell_type": "markdown",
   "id": "a6e07489",
   "metadata": {},
   "source": [
    "## 7. How does bacon.append(99) change the look of the list value in bacon?\n",
    "\n",
    "•\tThe append() method in Python is used to add an element to the end of a list.\n",
    "•\tbacon.append(99) adds the value 99 to the end of the bacon list.\n",
    "After bacon.append(99), the bacon list will look like this: [3.14, 'cat', 11, 'cat', True, 99].\n"
   ]
  },
  {
   "cell_type": "markdown",
   "id": "3e5dacc3",
   "metadata": {},
   "source": [
    "## 8. How does bacon.remove('cat') change the look of the list in bacon?\n",
    "\n",
    "•\tThe remove() method in Python is used to remove the first occurrence of a specified value from a list.\n",
    "•\tbacon.remove('cat') searches for the first occurrence of 'cat' in the bacon list and removes it.\n",
    "After bacon.remove('cat'), the bacon list will look like this: [3.14, 11, 'cat', True, 99]\n"
   ]
  },
  {
   "cell_type": "markdown",
   "id": "5601a0e5",
   "metadata": {},
   "source": [
    "## 9. What are the list concatenation and list replication operators?\n",
    "\n",
    "In Python, you can concatenate lists and replicate (repeat) a list using the following operators and techniques:\n",
    "1.\tList Concatenation Operator (+):\n",
    "•\tThe `+` operator is used for list concatenation.\n",
    "•\tIt allows you to combine two or more lists into a single list.\n",
    "•\tWhen you use the `+` operator between two or more lists, a new list is created, and the elements from all the lists are included in the order in which they appear.\n",
    "\n"
   ]
  },
  {
   "cell_type": "code",
   "execution_count": 41,
   "id": "9185426c",
   "metadata": {},
   "outputs": [],
   "source": [
    "  # Example of list concatenation:\n",
    "list1 = [1, 2, 3]\n",
    "list2 = [4, 5, 6]\n",
    "result = list1 + list2\n",
    "#The value of `result` will be `[1, 2, 3, 4, 5, 6]`.\n"
   ]
  },
  {
   "cell_type": "markdown",
   "id": "1daf8732",
   "metadata": {},
   "source": [
    " 2.\tList Replication Operator (*):\n",
    "•\tThe `*` operator is used for list replication (repeating elements in a list multiple times).\n",
    "•\tIt allows you to create a new list by repeating the elements of an existing list a specified number of times.\n"
   ]
  },
  {
   "cell_type": "code",
   "execution_count": 42,
   "id": "df4d315a",
   "metadata": {},
   "outputs": [],
   "source": [
    "# Example of list replication:\n",
    "original_list = [1, 2, 3]\n",
    "replicated_list = original_list * 3\n",
    "# The value of `replicated_list` will be `[1, 2, 3, 1, 2, 3, 1, 2, 3]` because the elements\n",
    "#of `original_list` are repeated three times.\n"
   ]
  },
  {
   "cell_type": "markdown",
   "id": "ca813da6",
   "metadata": {},
   "source": [
    "## 10. What is difference between the list methods append() and insert()?\n",
    "\n",
    "The `append()` and `insert()` methods in Python are both used to add elements to a list, but they differ in how they add elements and where they add them within the list:\n",
    "1.\t`append()` Method:\n",
    "•\tThe `append()` method is used to add an element to the end of a list.\n",
    "•\tIt takes one argument, which is the element you want to add.\n",
    "•\tThe element is added as the last element in the list, and it increases the list's length by one.\n"
   ]
  },
  {
   "cell_type": "code",
   "execution_count": 43,
   "id": "43c02091",
   "metadata": {},
   "outputs": [],
   "source": [
    "   # Example:\n",
    "my_list = [1, 2, 3]\n",
    "my_list.append(4)  # Adds 4 to the end of the list\n",
    "   #After `append(4)`, `my_list` becomes `[1, 2, 3, 4]`.\n"
   ]
  },
  {
   "cell_type": "markdown",
   "id": "4a16eb4e",
   "metadata": {},
   "source": [
    "2.\tinsert()` Method:\n",
    "•\tThe `insert()` method is used to add an element at a specific position within the list.\n",
    "•\tIt takes two arguments: the first argument is the index at which you want to insert the element, and the second argument is the element itself.\n",
    "•\tThe element is added at the specified index, and the existing elements are shifted to accommodate the new element.\n"
   ]
  },
  {
   "cell_type": "code",
   "execution_count": 44,
   "id": "9ab115a1",
   "metadata": {},
   "outputs": [],
   "source": [
    "# Example:\n",
    "my_list = [1, 2, 3]\n",
    "my_list.insert(1, 4)  # Inserts 4 at index 1\n",
    "#After `insert(1, 4)`, `my_list` becomes `[1, 4, 2, 3]`.\n"
   ]
  },
  {
   "cell_type": "markdown",
   "id": "8aaea36a",
   "metadata": {},
   "source": [
    "## 11. What are the two methods for removing items from a list?\n",
    "\n",
    "In Python, there are two common methods for removing items from a list:\n",
    "1.\t`remove()` Method:\n",
    "•\tThe `remove()` method is used to remove the first occurrence of a specified value from a list.\n",
    "•\tIt takes one argument, which is the value you want to remove.\n",
    "•\tIf the value is found in the list, only the first occurrence is removed, and the list is modified.\n",
    "•\tIf the value is not found, it raises a `ValueError`.\n"
   ]
  },
  {
   "cell_type": "code",
   "execution_count": 45,
   "id": "54815c25",
   "metadata": {},
   "outputs": [],
   "source": [
    "#Example:\n",
    "my_list = [1, 2, 3, 2, 4]\n",
    "my_list.remove(2)  # Removes the first occurrence of 2\n",
    "   #After `remove(2)`, `my_list` becomes `[1, 3, 2, 4]`, with the first occurrence of `2` removed.\n"
   ]
  },
  {
   "cell_type": "markdown",
   "id": "b42475ec",
   "metadata": {},
   "source": [
    "2.\t`pop()` Method:\n",
    "•\tThe `pop()` method is used to remove and return an item from a list based on its index.\n",
    "•\tIt takes one optional argument, which is the index of the item to remove. If no index is specified, it removes and returns the last item in the list.\n",
    "•\tAfter removal, the list is modified.\n",
    "•\tIf you specify an index that is out of range, it raises an `IndexError`.\n",
    "\n"
   ]
  },
  {
   "cell_type": "code",
   "execution_count": 46,
   "id": "0e6631f3",
   "metadata": {},
   "outputs": [],
   "source": [
    "   # Example:\n",
    "my_list = [1, 2, 3, 4]\n",
    "popped_item = my_list.pop(1)  # Removes and returns the item at index 1 (2)\n",
    "   # After `pop(1)`, `my_list` becomes `[1, 3, 4]`, and `popped_item` contains the value `2`.\n"
   ]
  },
  {
   "cell_type": "markdown",
   "id": "5192d267",
   "metadata": {},
   "source": [
    "## 12. Describe how list values and string values are identical.\n",
    "\n",
    "List values and string values in Python share several similarities, which contribute to their common characteristics:\n",
    "1.\tSequential Data Types:\n",
    "•\tBoth lists and strings are sequential data types, meaning they represent ordered collections of elements.\n",
    "•\tLists are collections of arbitrary objects (e.g., numbers, strings, other objects), while strings are collections of characters.\n",
    "2.\tIndexing:\n",
    "•\tBoth lists and strings support indexing, which allows you to access individual elements or characters by their position within the sequence.\n",
    "•\tIndexing is zero-based, meaning the first element or character is at index 0.\n"
   ]
  },
  {
   "cell_type": "code",
   "execution_count": 47,
   "id": "54ce972e",
   "metadata": {},
   "outputs": [],
   "source": [
    "   #Example for lists:\n",
    "my_list = [10, 20, 30]\n",
    "element = my_list[0]  # Accessing the first element (10)\n",
    "   #Example for strings:\n",
    "my_string = \"Hello\"\n",
    "char = my_string[1]  # Accessing the second character ('e')\n"
   ]
  },
  {
   "cell_type": "markdown",
   "id": "e6dec09c",
   "metadata": {},
   "source": [
    "3.\tSlicing:\n",
    "•\tBoth lists and strings support slicing, allowing you to extract sub-sequences by specifying start and end indices.\n",
    "•\tSlices create new objects without modifying the original data.\n"
   ]
  },
  {
   "cell_type": "code",
   "execution_count": 48,
   "id": "64e72b63",
   "metadata": {},
   "outputs": [],
   "source": [
    "#Example for lists:\n",
    "my_list = [1, 2, 3, 4, 5]\n",
    "sub_list = my_list[1:4]  # Slicing from index 1 to 3 ([2, 3, 4])\n",
    "  # Example for strings:\n",
    "my_string = \"Python\"\n",
    "sub_string = my_string[1:4]  # Slicing from index 1 to 3 ('yth')\n"
   ]
  },
  {
   "cell_type": "markdown",
   "id": "6675a579",
   "metadata": {},
   "source": [
    "4.\tIteration:\n",
    "•\tYou can iterate over both lists and strings using loops like `for` loops.\n",
    "•\tThis allows you to access each element or character one at a time.\n"
   ]
  },
  {
   "cell_type": "code",
   "execution_count": 49,
   "id": "57cac76a",
   "metadata": {},
   "outputs": [
    {
     "name": "stdout",
     "output_type": "stream",
     "text": [
      "1\n",
      "2\n",
      "3\n",
      "H\n",
      "e\n",
      "l\n",
      "l\n",
      "o\n"
     ]
    }
   ],
   "source": [
    "#Example for lists:\n",
    "my_list = [1, 2, 3]\n",
    "for item in my_list:\n",
    "       print(item)  # Iterates and prints each element\n",
    "#Example for strings:\n",
    "my_string = \"Hello\"\n",
    "for char in my_string:\n",
    "       print(char)  # Iterates and prints each character\n"
   ]
  },
  {
   "cell_type": "markdown",
   "id": "cecc5d10",
   "metadata": {},
   "source": [
    "5.\tMembership Testing:\n",
    "•\tYou can use the `in` operator to check whether an element or character is present in a list or string, respectively.\n"
   ]
  },
  {
   "cell_type": "code",
   "execution_count": 50,
   "id": "572e2962",
   "metadata": {},
   "outputs": [],
   "source": [
    "#Example for lists:\n",
    "my_list = [1, 2, 3]\n",
    "is_present = 2 in my_list  # True, as 2 is in the list\n",
    "#Example for strings:\n",
    "my_string = \"Hello\"\n",
    "is_present = 'e' in my_string  # True, as 'e' is in the string\n"
   ]
  },
  {
   "cell_type": "markdown",
   "id": "c00fa644",
   "metadata": {},
   "source": [
    "## 13. What's the difference between tuples and lists?\n",
    "\n",
    "Tuples and lists in Python are both used to store collections of items, but they have several key differences:\n",
    "\n",
    "1.\tMutability:\n",
    "•\tLists: Lists are mutable, which means you can change their contents (add, remove, or modify elements) after they are created. You can use methods like `append()`, `pop()`, and `insert()` to modify lists in-place.\n",
    "•\tTuples: Tuples are immutable, which means once you create a tuple, you cannot change its contents. You cannot add, remove, or modify elements in a tuple after it is defined.\n"
   ]
  },
  {
   "cell_type": "code",
   "execution_count": 51,
   "id": "c9c43cdc",
   "metadata": {},
   "outputs": [
    {
     "ename": "AttributeError",
     "evalue": "'tuple' object has no attribute 'append'",
     "output_type": "error",
     "traceback": [
      "\u001b[1;31m---------------------------------------------------------------------------\u001b[0m",
      "\u001b[1;31mAttributeError\u001b[0m                            Traceback (most recent call last)",
      "Input \u001b[1;32mIn [51]\u001b[0m, in \u001b[0;36m<cell line: 6>\u001b[1;34m()\u001b[0m\n\u001b[0;32m      4\u001b[0m my_list\u001b[38;5;241m.\u001b[39mappend(\u001b[38;5;241m4\u001b[39m)  \u001b[38;5;66;03m# Adds 4 to the list\u001b[39;00m\n\u001b[0;32m      5\u001b[0m    \u001b[38;5;66;03m# Modifying a tuple (invalid; raises an error)\u001b[39;00m\n\u001b[1;32m----> 6\u001b[0m \u001b[43mmy_tuple\u001b[49m\u001b[38;5;241;43m.\u001b[39;49m\u001b[43mappend\u001b[49m(\u001b[38;5;241m4\u001b[39m)\n",
      "\u001b[1;31mAttributeError\u001b[0m: 'tuple' object has no attribute 'append'"
     ]
    }
   ],
   "source": [
    "my_list = [1, 2, 3]\n",
    "my_tuple = (1, 2, 3)\n",
    "   # Modifying a list (valid)\n",
    "my_list.append(4)  # Adds 4 to the list\n",
    "   # Modifying a tuple (invalid; raises an error)\n",
    "my_tuple.append(4)  # Raises AttributeError\n"
   ]
  },
  {
   "cell_type": "markdown",
   "id": "2b429ff7",
   "metadata": {},
   "source": [
    "2.\tSyntax:\n",
    "•\tLists: Lists are defined using square brackets `[ ]`.\n",
    "•\tTuples: Tuples are defined using parentheses `( )`.\n"
   ]
  },
  {
   "cell_type": "code",
   "execution_count": null,
   "id": "a505fe6b",
   "metadata": {},
   "outputs": [],
   "source": [
    "my_list = [1, 2, 3]\n",
    "my_tuple = (1, 2, 3)\n"
   ]
  },
  {
   "cell_type": "markdown",
   "id": "576c75bd",
   "metadata": {},
   "source": [
    "3.\tPerformance:\n",
    "•\tBecause tuples are immutable, they generally have better performance characteristics than lists for certain operations.\n",
    "•\tTuples can be used as keys in dictionaries, while lists cannot because keys in dictionaries must be hashable (immutable).\n",
    "\n",
    "4.\tUse Cases:\n",
    "•\tLists: Lists are typically used when you have a collection of items that may need to be modified, expanded, or shrunk during the program's execution. Lists are useful for holding similar items.\n",
    "•\tTuples: Tuples are used when you want to represent a collection of items that should not change. They are often used for things like coordinates, record structures, or to ensure that data remains constant.\n"
   ]
  },
  {
   "cell_type": "code",
   "execution_count": null,
   "id": "8dd19076",
   "metadata": {},
   "outputs": [],
   "source": [
    "# List of student names\n",
    "student_names = [\"Alice\", \"Bob\", \"Charlie\"]\n",
    "   # Tuple representing a point in 2D space\n",
    "point = (3, 4)\n"
   ]
  },
  {
   "cell_type": "markdown",
   "id": "0ba6a05f",
   "metadata": {},
   "source": [
    "5.\tIterability and Indexing:\n",
    "•\tBoth tuples and lists support iteration (e.g., using `for` loops) and indexing (accessing elements by position).\n"
   ]
  },
  {
   "cell_type": "code",
   "execution_count": null,
   "id": "e9587ca1",
   "metadata": {},
   "outputs": [],
   "source": [
    "my_list = [1, 2, 3]\n",
    "my_tuple = (1, 2, 3)\n",
    "for item in my_list:\n",
    "       print(item)\n",
    "for item in my_tuple:\n",
    "       print(item)\n",
    "print(my_list[0])  # Accessing the first element (1)\n",
    "print(my_tuple[0])  # Accessing the first element (1)\n"
   ]
  },
  {
   "cell_type": "markdown",
   "id": "84504e72",
   "metadata": {},
   "source": [
    "## 14. How do you type a tuple value that only contains the integer 42?\n",
    "\n",
    "To create a tuple that contains only the integer `42`, you can use parentheses to enclose the value. Here's how you would type it:\n"
   ]
  },
  {
   "cell_type": "code",
   "execution_count": null,
   "id": "c6a798c0",
   "metadata": {},
   "outputs": [],
   "source": [
    "my_tuple = (42,)"
   ]
  },
  {
   "cell_type": "markdown",
   "id": "eaecb464",
   "metadata": {},
   "source": [
    "In this example, `(42,)` represents a tuple with a single element, which is the integer `42`. The comma `,` after `42` is necessary to distinguish it as a tuple with one element, as opposed to just an expression within parentheses."
   ]
  },
  {
   "cell_type": "markdown",
   "id": "537f36c5",
   "metadata": {},
   "source": [
    "## 15. How do you get a list value's tuple form? How do you get a tuple value's list form?\n",
    "\n",
    "To convert a list into a tuple or a tuple into a list in Python, you can use the `tuple()` constructor to convert a list to a tuple and the `list()` constructor to convert a tuple to a list. Here's how you can do it:\n"
   ]
  },
  {
   "cell_type": "code",
   "execution_count": null,
   "id": "f6b2d6fc",
   "metadata": {},
   "outputs": [],
   "source": [
    "# 1.\tConvert a List to a Tuple:\n",
    "my_list = [1, 2, 3, 4, 5]\n",
    "my_tuple = tuple(my_list)\n"
   ]
  },
  {
   "cell_type": "code",
   "execution_count": null,
   "id": "c9140b1c",
   "metadata": {},
   "outputs": [],
   "source": [
    "# 2.\tConvert a Tuple to a List:\n",
    "my_tuple = (10, 20, 30, 40, 50)\n",
    "my_list = list(my_tuple)\n"
   ]
  },
  {
   "cell_type": "markdown",
   "id": "c9174090",
   "metadata": {},
   "source": [
    "## 16. Variables that \"contain\" list values are not necessarily lists themselves. Instead, what do they contain?\n",
    "\n",
    "In Python, variables that appear to \"contain\" list values actually store references to those list values in memory. Variables themselves do not directly contain the list data; they contain references or pointers to the memory locations where the list data is stored.\n",
    "\n",
    "When you assign a list to a variable, you're storing a reference to the list in the variable. This means that if you assign the same list to multiple variables or pass a list as an argument to a function, all of them refer to the same underlying list in memory. Therefore, modifications made to the list through one variable will affect all other variables that reference the same list.\n"
   ]
  },
  {
   "cell_type": "code",
   "execution_count": null,
   "id": "fc0f728f",
   "metadata": {},
   "outputs": [],
   "source": [
    "#Example:\n",
    "list1 = [1, 2, 3]\n",
    "list2 = list1  # Both list1 and list2 now reference the same list in memory\n",
    "\n",
    "list1.append(4)  # Modifying the list via list1\n",
    "\n",
    "print(list1)  # Output: [1, 2, 3, 4]\n",
    "print(list2)  # Output: [1, 2, 3, 4] (list2 reflects the change made to the shared list)\n"
   ]
  },
  {
   "cell_type": "markdown",
   "id": "50fecfed",
   "metadata": {},
   "source": [
    "## 17. How do you distinguish between copy.copy() and copy.deepcopy()?\n",
    "1.\t`copy.copy()`:\n",
    "•\t`copy.copy()` is used to create a shallow copy of an object.\n",
    "•\tIn a shallow copy, a new object is created, but it shares references to the nested objects (elements) found within the original object.\n",
    "•\tThis means that changes made to nested objects within the copied structure will affect both the original and the copied object if those nested objects are mutable.\n"
   ]
  },
  {
   "cell_type": "code",
   "execution_count": null,
   "id": "f748a09e",
   "metadata": {},
   "outputs": [],
   "source": [
    "   #Example:\n",
    "import copy\n",
    "original_list = [1, [2, 3]]\n",
    "shallow_copy = copy.copy(original_list)\n",
    "\n",
    "shallow_copy[1].append(4)\n",
    "\n",
    "print(original_list)  # Output: [1, [2, 3, 4]]\n",
    "print(shallow_copy)   # Output: [1, [2, 3, 4]]\n",
    "#As shown in the example, modifying the nested list within `shallow_copy` \n",
    "#also affects the nested list within `original_list`.\n"
   ]
  },
  {
   "cell_type": "markdown",
   "id": "2449efc4",
   "metadata": {},
   "source": [
    "2.\t`copy.deepcopy()`:\n",
    "•\t`copy.deepcopy()` is used to create a deep copy of an object.\n",
    "•\tIn a deep copy, a completely new object is created, along with copies of all the objects found within the original object, recursively.\n",
    "•\tThis means that changes made to nested objects within the copied structure will not affect the original object.\n",
    "\n"
   ]
  },
  {
   "cell_type": "code",
   "execution_count": null,
   "id": "238a9c96",
   "metadata": {},
   "outputs": [],
   "source": [
    "#Example:\n",
    "import copy\n",
    "original_list = [1, [2, 3]]\n",
    "deep_copy = copy.deepcopy(original_list)\n",
    "deep_copy[1].append(4)\n",
    "print(original_list)  # Output: [1, [2, 3]]\n",
    "print(deep_copy)     # Output: [1, [2, 3, 4]]\n",
    "#In this example, modifying the nested list within `deep_copy` does not affect the nested list within `original_list`.\n",
    "\n"
   ]
  },
  {
   "cell_type": "code",
   "execution_count": null,
   "id": "dd1c5f89",
   "metadata": {},
   "outputs": [],
   "source": []
  }
 ],
 "metadata": {
  "kernelspec": {
   "display_name": "Python 3 (ipykernel)",
   "language": "python",
   "name": "python3"
  },
  "language_info": {
   "codemirror_mode": {
    "name": "ipython",
    "version": 3
   },
   "file_extension": ".py",
   "mimetype": "text/x-python",
   "name": "python",
   "nbconvert_exporter": "python",
   "pygments_lexer": "ipython3",
   "version": "3.9.12"
  }
 },
 "nbformat": 4,
 "nbformat_minor": 5
}
